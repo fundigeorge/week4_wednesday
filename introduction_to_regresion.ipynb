{
  "nbformat": 4,
  "nbformat_minor": 0,
  "metadata": {
    "colab": {
      "provenance": [],
      "collapsed_sections": []
    },
    "kernelspec": {
      "name": "python3",
      "display_name": "Python 3"
    },
    "language_info": {
      "name": "python"
    }
  },
  "cells": [
    {
      "cell_type": "markdown",
      "source": [
        "##Problem statement\n",
        "Mobile carrier Megaline has found out that many of their subscribers use legacy plans.\n",
        "They want to develop a model that would analyze subscribers' behavior and recommend\n",
        "one of Megaline's newer plans: Smart or Ultra."
      ],
      "metadata": {
        "id": "-jz_gOIgIf6n"
      }
    },
    {
      "cell_type": "markdown",
      "source": [
        "##Metric of success\n",
        "Develop a model with the highest possible accuracy >= 0.75 to be able to recommend either of Smart or Ultra plans"
      ],
      "metadata": {
        "id": "rDHx1VkMIvEn"
      }
    },
    {
      "cell_type": "code",
      "source": [
        "import pandas as pd\n",
        "import numpy as np\n",
        "from sklearn.tree import DecisionTreeClassifier, DecisionTreeRegressor\n",
        "from sklearn.ensemble import RandomForestClassifier, RandomForestRegressor\n",
        "from sklearn.linear_model import LogisticRegression, LinearRegression\n",
        "from sklearn.model_selection import train_test_split\n",
        "from sklearn.metrics import accuracy_score, mean_squared_error\n",
        "\n"
      ],
      "metadata": {
        "id": "I292_3oxKl77"
      },
      "execution_count": 26,
      "outputs": []
    },
    {
      "cell_type": "markdown",
      "source": [
        "###Reading the data and preview"
      ],
      "metadata": {
        "id": "s1HOBX9MMREM"
      }
    },
    {
      "cell_type": "code",
      "source": [
        "#read the data and preview the data\n",
        "users_df = pd.read_csv('users_behavior.csv')\n",
        "print(users_df.head())\n",
        "print(users_df.shape)\n",
        "\n"
      ],
      "metadata": {
        "colab": {
          "base_uri": "https://localhost:8080/"
        },
        "id": "WmbOaowfMM1-",
        "outputId": "80b4ce76-7f44-4b62-838c-7c2006d72fd1"
      },
      "execution_count": 21,
      "outputs": [
        {
          "output_type": "stream",
          "name": "stdout",
          "text": [
            "   calls  minutes  messages   mb_used  is_ultra\n",
            "0   40.0   311.90      83.0  19915.42         0\n",
            "1   85.0   516.75      56.0  22696.96         0\n",
            "2   77.0   467.66      86.0  21060.45         0\n",
            "3  106.0   745.53      81.0   8437.39         1\n",
            "4   66.0   418.74       1.0  14502.75         0\n",
            "(3214, 5)\n"
          ]
        },
        {
          "output_type": "execute_result",
          "data": {
            "text/plain": [
              "2"
            ]
          },
          "metadata": {},
          "execution_count": 21
        }
      ]
    },
    {
      "cell_type": "markdown",
      "source": [
        "###Data preparation and cleaning\n"
      ],
      "metadata": {
        "id": "rkuTArKUMnNw"
      }
    },
    {
      "cell_type": "code",
      "source": [
        "#check for missing value, variable datatype\n",
        "users_df.columns #columns names standardised\n",
        "users_df.isnull().sum() #no missing value\n",
        "users_df.dtypes #all variable are numeric, good for regression methods prediction\n",
        "users_df.duplicated().sum() #no duplicated observations\n",
        "users_df.nunique() #is_ultra has two values 0,1 - categorical"
      ],
      "metadata": {
        "colab": {
          "base_uri": "https://localhost:8080/"
        },
        "id": "laceX82MMwHJ",
        "outputId": "e1e81032-af26-4970-a157-f1b6ed1bfe1e"
      },
      "execution_count": 22,
      "outputs": [
        {
          "output_type": "execute_result",
          "data": {
            "text/plain": [
              "calls        184\n",
              "minutes     3144\n",
              "messages     180\n",
              "mb_used     3203\n",
              "is_ultra       2\n",
              "dtype: int64"
            ]
          },
          "metadata": {},
          "execution_count": 22
        }
      ]
    },
    {
      "cell_type": "markdown",
      "source": [
        "###Model traning and prediction"
      ],
      "metadata": {
        "id": "JkPUi_oFN64D"
      }
    },
    {
      "cell_type": "code",
      "source": [
        "#create train, validation and test dataset from source dataset\n",
        "features =users_df.drop(columns='is_ultra')\n",
        "target = users_df['is_ultra']\n",
        "\n",
        "#separate source dataset into train, test. declare the feature and target variable\n",
        "features_train, features_test_valid = train_test_split(features, test_size=0.4, random_state=12345)\n",
        "target_train, target_test_valid = train_test_split(target, test_size=0.4, random_state=12345)\n",
        "features_valid, features_test = train_test_split(features_test_valid, test_size=0.5, random_state=12345)\n",
        "target_valid, target_test = train_test_split(target_test_valid, test_size=0.5, random_state=12345)\n",
        "\n",
        "#check the shape of the split datasource\n",
        "print(features_train.shape)\n",
        "print(features_valid.shape)\n",
        "print(features_test.shape)\n",
        "\n",
        "#model training and prediction. \n",
        "#the target variable is categorical so preferrably use categorical algorithms\n",
        "#decision tree classifier\n",
        "\n",
        "#find the best tree depth with best accuracy\n",
        "for depth in range(1,10, 1):\n",
        "  tree = DecisionTreeClassifier(max_depth=depth, random_state=12345)\n",
        "  tree.fit(features_train, target_train)\n",
        "  print(f'Tree accuracy with Validation: {tree.score(features_valid, target_valid)} at depth of: {depth}')\n",
        "  \n",
        "#find the best n estimator for random forest with best accuracy\n",
        "for n in range(1,10, 1):\n",
        "  tree = RandomForestClassifier(n_estimators=n, random_state=12345)\n",
        "  tree.fit(features_train, target_train)\n",
        "  print(f'Forest accuracy with Validation: {tree.score(features_valid, target_valid)} for n trees: {n}')\n",
        "\n",
        "#declare a model for logistic regression\n",
        "log = LogisticRegression(random_state=1234, solver='liblinear')\n",
        "log.fit(features_train, target_train)\n",
        "print(f'logistic regression has accuracy of: {log.score(features_valid, target_valid)}')\n",
        "\n"
      ],
      "metadata": {
        "colab": {
          "base_uri": "https://localhost:8080/"
        },
        "id": "VBUBQQ9VN6hH",
        "outputId": "86d10c41-feaf-4851-eeb9-dda282d3977e"
      },
      "execution_count": 37,
      "outputs": [
        {
          "output_type": "stream",
          "name": "stdout",
          "text": [
            "(1928, 4)\n",
            "(643, 4)\n",
            "(643, 4)\n",
            "Tree accuracy with Validation: 0.7542768273716952 at depth of: 1\n",
            "Tree accuracy with Validation: 0.7822706065318819 at depth of: 2\n",
            "Tree accuracy with Validation: 0.7853810264385692 at depth of: 3\n",
            "Tree accuracy with Validation: 0.7791601866251944 at depth of: 4\n",
            "Tree accuracy with Validation: 0.7791601866251944 at depth of: 5\n",
            "Tree accuracy with Validation: 0.7838258164852255 at depth of: 6\n",
            "Tree accuracy with Validation: 0.7822706065318819 at depth of: 7\n",
            "Tree accuracy with Validation: 0.7791601866251944 at depth of: 8\n",
            "Tree accuracy with Validation: 0.7822706065318819 at depth of: 9\n",
            "Forest accuracy with Validation: 0.7107309486780715 for n trees: 1\n",
            "Forest accuracy with Validation: 0.7636080870917574 for n trees: 2\n",
            "Forest accuracy with Validation: 0.7387247278382582 for n trees: 3\n",
            "Forest accuracy with Validation: 0.7713841368584758 for n trees: 4\n",
            "Forest accuracy with Validation: 0.749611197511664 for n trees: 5\n",
            "Forest accuracy with Validation: 0.7807153965785381 for n trees: 6\n",
            "Forest accuracy with Validation: 0.7682737169517885 for n trees: 7\n",
            "Forest accuracy with Validation: 0.7822706065318819 for n trees: 8\n",
            "Forest accuracy with Validation: 0.7729393468118196 for n trees: 9\n",
            "logistic regression has accuracy of: 0.7589424572317263\n"
          ]
        }
      ]
    },
    {
      "cell_type": "markdown",
      "source": [
        "##Finding for accuracy of model\n",
        "random forest and decision tree model have the best accuracy compared to logistic regression. for the same depth of tree decision tree has better accuracy than forest. decision tree is faster than random forest therefore the recommended model is decision tree with depth of 2 with accuracy of 0.7822 > 0.75"
      ],
      "metadata": {
        "id": "wuQTeGlmmFth"
      }
    },
    {
      "cell_type": "markdown",
      "source": [
        "#Testing the models with test data\n"
      ],
      "metadata": {
        "id": "whP9p4ECnEJ8"
      }
    },
    {
      "cell_type": "code",
      "source": [
        "print(f'Tree accuracy with test: {tree.score(features_test, target_test)}')\n",
        "#assume data from Megaline is the test dataset.\n",
        "#predict the the mobile plan whether is ultra or no\n",
        "predicts_test = pd.Series(tree.predict(features_test), index=target_test.index)\n",
        "#get the frequecy of people on each plan\n",
        "plan_frequency = predicts_test.value_counts(normalize=True)\n",
        "plan_frequency.plot(kind='bar')"
      ],
      "metadata": {
        "colab": {
          "base_uri": "https://localhost:8080/",
          "height": 297
        },
        "id": "ZkJeN7RFnBEt",
        "outputId": "c7e4f441-ea6c-4954-91a5-e3fb4124d14f"
      },
      "execution_count": 46,
      "outputs": [
        {
          "output_type": "stream",
          "name": "stdout",
          "text": [
            "Tree accuracy with test: 0.7838258164852255\n"
          ]
        },
        {
          "output_type": "execute_result",
          "data": {
            "text/plain": [
              "<matplotlib.axes._subplots.AxesSubplot at 0x7f704fc404d0>"
            ]
          },
          "metadata": {},
          "execution_count": 46
        },
        {
          "output_type": "display_data",
          "data": {
            "text/plain": [
              "<Figure size 432x288 with 1 Axes>"
            ],
            "image/png": "[encoded data removed]"
          },
          "metadata": {
            "needs_background": "light"
          }
        }
      ]
    },
    {
      "cell_type": "markdown",
      "source": [
        "##finding and recommendation\n",
        "* Given a set of data of calls, minutes, messages and mb_used, it is possible to predict the most preferred mobile plan using a model.\n",
        "* most people are on Smart plan"
      ],
      "metadata": {
        "id": "dU7FWfSopNM8"
      }
    },
    {
      "cell_type": "code",
      "source": [],
      "metadata": {
        "id": "QtLBUBympMs3"
      },
      "execution_count": null,
      "outputs": []
    }
  ]
}